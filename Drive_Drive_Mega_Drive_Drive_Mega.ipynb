{
  "nbformat": 4,
  "nbformat_minor": 0,
  "metadata": {
    "colab": {
      "name": "Drive-Drive/Mega-Drive/Drive-Mega",
      "provenance": [],
      "collapsed_sections": [],
      "include_colab_link": true
    },
    "kernelspec": {
      "display_name": "Python 3",
      "name": "python3"
    }
  },
  "cells": [
    {
      "cell_type": "markdown",
      "metadata": {
        "id": "view-in-github",
        "colab_type": "text"
      },
      "source": [
        "<a href=\"https://colab.research.google.com/github/drfcozapata/assets/blob/master/Drive_Drive_Mega_Drive_Drive_Mega.ipynb\" target=\"_parent\"><img src=\"https://colab.research.google.com/assets/colab-badge.svg\" alt=\"Open In Colab\"/></a>"
      ]
    },
    {
      "cell_type": "code",
      "metadata": {
        "id": "7nJc7smQLjNA",
        "cellView": "form"
      },
      "source": [
        "#@markdown <center></br><img src=\"https://drfcozapata.files.wordpress.com/2020/12/logo-01a.png\" height=\"60\" alt=\"Logo DrFcoZapata\"/></center>"
      ],
      "execution_count": 16,
      "outputs": []
    },
    {
      "cell_type": "markdown",
      "metadata": {
        "id": "4T_a_6lmcgH-"
      },
      "source": [
        "# Agregar Google Drive a la Maquina Virtual de Colab\r\n",
        "\r\n",
        "Aqui iniciarás sesión con tu cuenta de Google para poder tener acceso a tus archivos"
      ]
    },
    {
      "cell_type": "code",
      "metadata": {
        "cellView": "form",
        "id": "SGD3lGcLcjUe"
      },
      "source": [
        "#@markdown <br><center><img src='https://upload.wikimedia.org/wikipedia/commons/thumb/d/da/Google_Drive_logo.png/600px-Google_Drive_logo.png' height=\"50\" alt=\"Gdrive-logo\"/></center>\r\n",
        "#@markdown <center><h3>Agregar Google Drive /content/drive</h3></center><br>\r\n",
        "MODO = \"MONTAR\" #@param [\"MONTAR\", \"DESMONTAR\"]\r\n",
        "#Mount your Gdrive! \r\n",
        "from google.colab import drive\r\n",
        "drive.mount._DEBUG = False\r\n",
        "if MODO == \"MONTAR\":\r\n",
        "  drive.mount('/content/drive', force_remount=True)\r\n",
        "elif MODO == \"DESMONTAR\":\r\n",
        "  try:\r\n",
        "    drive.flush_and_unmount()\r\n",
        "  except ValueError:\r\n",
        "    pass\r\n",
        "  get_ipython().system_raw(\"rm -rf /root/.config/Google/DriveFS\")"
      ],
      "execution_count": null,
      "outputs": []
    },
    {
      "cell_type": "markdown",
      "metadata": {
        "id": "y6G60N6YCYvb"
      },
      "source": [
        "\n",
        "# Copiar contenido entre Drive y Unidades ilimitadas\n",
        "Abre la carpeta del Drive en la columna de la izquierda, selecciona la que deseas copiar; en el menú contextual (click derecho) selecciona \"Copiar la ruta\" y luego pégala en \"RUTA_ORIGEN\". Haz lo mismo con el sitio donde deseas copiarla y pega la ruta en \"RUTA_DESTINO\".\n",
        "\n"
      ]
    },
    {
      "cell_type": "code",
      "metadata": {
        "id": "ithkkmzhCrFa",
        "cellView": "form"
      },
      "source": [
        "#@markdown <center><img src='https://upload.wikimedia.org/wikipedia/commons/thumb/d/da/Google_Drive_logo.png/600px-Google_Drive_logo.png' height=\"50\" alt=\"Gdrive-logo\"/><img src='https://upload.wikimedia.org/wikipedia/commons/thumb/d/da/Google_Drive_logo.png/600px-Google_Drive_logo.png' height=\"50\" alt=\"Gdrive-logo\"/></center>\n",
        "#@markdown <center><h2>Copiar contenido entre Unidades</h2></center><br>\n",
        "RUTA_ORIGEN = \"\" #@param {type:\"string\"}\n",
        "RUTA_DESTINO = \"\" #@param {type:\"string\"}\n",
        "import shutil\n",
        "\n",
        "# Copia el archivo desde la ubicación actual a la\n",
        "# carpeta \"Documentos\".\n",
        "shutil.copy(RUTA_ORIGEN, RUTA_DESTINO)"
      ],
      "execution_count": null,
      "outputs": []
    },
    {
      "cell_type": "markdown",
      "metadata": {
        "id": "fVjCRbvgrf-_"
      },
      "source": [
        "# Descomprimir/Comprimir archivos 7Z, RAR, TAR o ZIP en Google Drive"
      ]
    },
    {
      "cell_type": "code",
      "metadata": {
        "id": "6omJ6ngOrsRI",
        "cellView": "form"
      },
      "source": [
        "#@markdown <center><img src='https://drfcozapata.files.wordpress.com/2020/12/7z.png' height=\"50\" alt=\"Logo-7z\"/>&nbsp;<img src='https://drfcozapata.files.wordpress.com/2020/12/rar.png' height=\"50\" alt=\"Logo-RAR\"/>&nbsp;<img src='https://drfcozapata.files.wordpress.com/2020/12/tar.png' height=\"50\" alt=\"Logo-TAR\"/>&nbsp;<img src='https://drfcozapata.files.wordpress.com/2020/12/zip.png' height=\"50\" alt=\"Logo-ZIP\"/></center>\n",
        "#@title Descomprimir archivos \n",
        "\n",
        "# ============================= FORM ============================= #\n",
        "\n",
        "MODO = \"UNRAR\"  # @param [\"7Z\", \"UNRAR\", \"UNTAR\", \"UNZIP\"]\n",
        "RUTA_ORIGEN = \"\"  # @param {type:\"string\"}\n",
        "RUTA_DESTINO = \"\"  # @param {type:\"string\"}\n",
        "PASSWORD = \"\" #@param {type:\"string\"}\n",
        "\n",
        "# ================================================================ #\n",
        "import os, urllib.request\n",
        "HOME = os.path.expanduser(\"~\")\n",
        "\n",
        "if not os.path.exists(f\"{HOME}/.ipython/ocr.py\"):\n",
        "    hCode = \"https://raw.githubusercontent.com/biplobsd/\" \\\n",
        "                \"OneClickRun/master/res/ocr.py\"\n",
        "    urllib.request.urlretrieve(hCode, f\"{HOME}/.ipython/ocr.py\")\n",
        "\n",
        "from ocr import (\n",
        "    runSh,\n",
        "    checkAvailable,\n",
        ")\n",
        "\n",
        "def extractFiles():\n",
        "    global RUTA_DESTINO\n",
        "    if PASSWORD:\n",
        "      passADD = f'-P {PASSWORD}'\n",
        "    else:\n",
        "      passADD = ''\n",
        "    if not RUTA_DESTINO:\n",
        "      RUTA_DESTINO = \"/content/extract\"\n",
        "    os.makedirs(RUTA_DESTINO, exist_ok=True)\n",
        "    if MODO == \"UNRAR\":\n",
        "        runSh(f'unrar x \"{RUTA_ORIGEN}\" \"{RUTA_DESTINO}\" '+passADD+' -o+', output=True)\n",
        "    elif MODO == \"UNTAR\":\n",
        "        runSh(f'tar -C \"{RUTA_DESTINO}\" -xvf \"{RUTA_ORIGEN}\"', output=True)\n",
        "    elif MODO == \"UNZIP\":\n",
        "        runSh('unzip '+passADD+f' \"{RUTA_ORIGEN}\" -d \"{RUTA_DESTINO}\"', output=True)\n",
        "    else:\n",
        "        runSh(f'7z x \"{RUTA_ORIGEN}\" -o{RUTA_DESTINO} '+passADD, output=True)\n",
        "\n",
        "extractFiles()"
      ],
      "execution_count": null,
      "outputs": []
    },
    {
      "cell_type": "markdown",
      "metadata": {
        "id": "79T9qiszD_qD"
      },
      "source": [
        "# Login en Mega para los procesos que siguen"
      ]
    },
    {
      "cell_type": "code",
      "metadata": {
        "id": "MXo-1Ad2EATT",
        "cellView": "form"
      },
      "source": [
        "#@markdown <center><img src='https://mega.nz/favicon.ico?v=3' height=\"50\" alt=\"MEGA-logo\"/></center>\n",
        "# @markdown <center><h3>Ingresa los datos de tu cuenta de Mega </h3></center><br>\n",
        "# @markdown *Después de ingresar a tu cuenta, se usará tu cuota de transferencia si vas a importar al Drive; te sugerimos que uses una cuenta Pro de Mega. La cuota de transferencia de Google Drive para exportar tiene un limite de 750Gb.*\n",
        "# @markdown  \n",
        "from functools import wraps\n",
        "import errno\n",
        "import os\n",
        "import signal\n",
        "import subprocess\n",
        "import shlex\n",
        "\n",
        "class TimeoutError(Exception):\n",
        "    pass\n",
        "\n",
        "def timeout(seconds=10, error_message=os.strerror(errno.ETIME)):\n",
        "    def decorator(func):\n",
        "        def _handle_timeout(signum, frame):\n",
        "            raise TimeoutError(error_message)\n",
        "\n",
        "        def wrapper(*args, **kwargs):\n",
        "            signal.signal(signal.SIGALRM, _handle_timeout)\n",
        "            signal.alarm(seconds)\n",
        "            try:\n",
        "                result = func(*args, **kwargs)\n",
        "            finally:\n",
        "                signal.alarm(0)\n",
        "            return result\n",
        "\n",
        "        return wraps(func)(wrapper)\n",
        "\n",
        "    return decorator\n",
        "\n",
        "if not os.path.exists(\"/root/.ipython/ocr.py\"):\n",
        "    from subprocess import run\n",
        "    from shlex import split\n",
        "\n",
        "    shellCmd = \"wget -qq https://raw.githubusercontent.com/biplobsd/OneClickRun/master/res/ocr.py \\\n",
        "                    -O /root/.ipython/ocr.py\"\n",
        "    run(split(shellCmd))\n",
        "from ocr import runSh\n",
        "\n",
        "@timeout(10)\n",
        "def runShT(args):\n",
        "    return runSh(args, output=True)\n",
        "\n",
        "# MEGAcmd installing\n",
        "if not os.path.exists(\"/usr/bin/mega-cmd\"):\n",
        "    print(\"Installing MEGA ...\")\n",
        "    runSh('sudo apt-get -y update')\n",
        "    runSh('sudo apt-get -y install libmms0 libc-ares2 libc6 libcrypto++6 libgcc1 libmediainfo0v5 libpcre3 libpcrecpp0v5 libssl1.1 libstdc++6 libzen0v5 zlib1g apt-transport-https')\n",
        "    runSh('sudo curl -sL -o /var/cache/apt/archives/MEGAcmd.deb https://mega.nz/linux/MEGAsync/Debian_9.0/amd64/megacmd-Debian_9.0_amd64.deb', output=True)\n",
        "    runSh('sudo dpkg -i /var/cache/apt/archives/MEGAcmd.deb', output=True)\n",
        "    print(\"MEGA is installed.\")\n",
        "else:\n",
        "    !pkill mega-cmd\n",
        "\n",
        "# INPUT YOUR MEGA ID\n",
        "USUARIO = \"\"  # @param {type:\"string\"}\n",
        "CONTRASEÑA = \"\"  # @param {type:\"string\"}\n",
        "USERNAME=USUARIO\n",
        "PASSWORD=CONTRASEÑA\n",
        "if not (USERNAME == \"\" or PASSWORD == \"\"):\n",
        "    try:\n",
        "        runShT(f\"mega-login {USERNAME} {PASSWORD}\")\n",
        "    except TimeoutError:\n",
        "        runSh('mega-whoami', output=True)\n",
        "else:\n",
        "    print(\"Por favor, ingresa los datos de tu cuenta de Mega.\")\n"
      ],
      "execution_count": null,
      "outputs": []
    },
    {
      "cell_type": "markdown",
      "metadata": {
        "id": "__9Ejt75okE-"
      },
      "source": [
        "# Importar link de Mega a Drive"
      ]
    },
    {
      "cell_type": "code",
      "metadata": {
        "id": "Rj2i0LNAovy1",
        "cellView": "form"
      },
      "source": [
        "import sys, os, urllib.request\n",
        "import time\n",
        "import subprocess\n",
        "import contextlib\n",
        "from IPython.display import clear_output\n",
        "#@markdown <center><img src='https://mega.nz/favicon.ico?v=3' height=\"50\" alt=\"MEGA-logo\"/><img src='https://upload.wikimedia.org/wikipedia/commons/thumb/d/da/Google_Drive_logo.png/600px-Google_Drive_logo.png' height=\"50\" alt=\"Gdrive-logo\"/></center>\n",
        "\n",
        "\n",
        "#@markdown <center><h2>Transferir de Mega a Google Drive</h2></center><br>\n",
        "HOME = os.path.expanduser(\"~\")\n",
        "if not os.path.exists(f\"{HOME}/.ipython/ocr.py\"):\n",
        "    hCode = \"https://raw.githubusercontent.com/biplobsd/\" \\\n",
        "                \"OneClickRun/master/res/ocr.py\"\n",
        "    urllib.request.urlretrieve(hCode, f\"{HOME}/.ipython/ocr.py\")\n",
        "\n",
        "from ocr import (\n",
        "    runSh,\n",
        "    loadingAn,\n",
        ")\n",
        "#@title MEGA public link downloa\n",
        "LINK_DE_MEGA=\"\" #@param {type:\"string\"}\n",
        "RUTA_DESTINO=\"\" #@param {type:\"string\"}\n",
        "URL = LINK_DE_MEGA\n",
        "OUTPUT_PATH =RUTA_DESTINO \n",
        "if not OUTPUT_PATH:\n",
        "  os.makedirs(\"downloads\", exist_ok=True)\n",
        "  OUTPUT_PATH = \"downloads\"\n",
        "# MEGAcmd installing\n",
        "if not os.path.exists(\"/usr/bin/mega-cmd\"):\n",
        "    loadingAn()\n",
        "    print(\"Installing MEGA ...\")\n",
        "    runSh('sudo apt-get -y update')\n",
        "    runSh('sudo apt-get -y install libmms0 libc-ares2 libc6 libcrypto++6 libgcc1 libmediainfo0v5 libpcre3 libpcrecpp0v5 libssl1.1 libstdc++6 libzen0v5 zlib1g apt-transport-https')\n",
        "    runSh('sudo curl -sL -o /var/cache/apt/archives/MEGAcmd.deb https://mega.nz/linux/MEGAsync/Debian_9.0/amd64/megacmd-Debian_9.0_amd64.deb', output=True)\n",
        "    runSh('sudo dpkg -i /var/cache/apt/archives/MEGAcmd.deb', output=True)\n",
        "    print(\"MEGA is installed.\")\n",
        "    clear_output()\n",
        "\n",
        "# Unix, Windows and old Macintosh end-of-line\n",
        "newlines = ['\\n', '\\r\\n', '\\r']\n",
        "\n",
        "def unbuffered(proc, stream='stdout'):\n",
        "    stream = getattr(proc, stream)\n",
        "    with contextlib.closing(stream):\n",
        "        while True:\n",
        "            out = []\n",
        "            last = stream.read(1)\n",
        "            # Don't loop forever\n",
        "            if last == '' and proc.poll() is not None:\n",
        "                break\n",
        "            while last not in newlines:\n",
        "                # Don't loop forever\n",
        "                if last == '' and proc.poll() is not None:\n",
        "                    break\n",
        "                out.append(last)\n",
        "                last = stream.read(1)\n",
        "            out = ''.join(out)\n",
        "            yield out\n",
        "\n",
        "\n",
        "def transfare():\n",
        "    import codecs\n",
        "    decoder = codecs.getincrementaldecoder(\"UTF-8\")()\n",
        "    cmd = [\"mega-get\", URL, OUTPUT_PATH]\n",
        "    proc = subprocess.Popen(\n",
        "        cmd,\n",
        "        stdout=subprocess.PIPE,\n",
        "        stderr=subprocess.STDOUT,\n",
        "        # Make all end-of-lines '\\n'\n",
        "        universal_newlines=True,\n",
        "    )\n",
        "    for line in unbuffered(proc):\n",
        "        print(line)\n",
        "        \n",
        "\n",
        "\n",
        "transfare()\n",
        "\n"
      ],
      "execution_count": null,
      "outputs": []
    },
    {
      "cell_type": "markdown",
      "metadata": {
        "id": "QA5w5BXIdsGc"
      },
      "source": [
        "#Exportar link de Drive a Mega"
      ]
    },
    {
      "cell_type": "code",
      "metadata": {
        "id": "MA06zzEWdxah",
        "cellView": "form"
      },
      "source": [
        "import time\r\n",
        "import subprocess\r\n",
        "import contextlib\r\n",
        "from IPython.display import clear_output\r\n",
        "#@markdown <center><img src='https://upload.wikimedia.org/wikipedia/commons/thumb/d/da/Google_Drive_logo.png/600px-Google_Drive_logo.png' height=\"50\" alt=\"Gdrive-logo\"/><img src='https://mega.nz/favicon.ico?v=3' height=\"50\" alt=\"MEGA-logo\"/></center>\r\n",
        "\r\n",
        "RUTA_ORIGEN = \"\"  # @param {type:\"string\"}\r\n",
        "# Unix, Windows and old Macintosh end-of-line\r\n",
        "newlines = ['\\n', '\\r\\n', '\\r']\r\n",
        "\r\n",
        "def unbuffered(proc, stream='stdout'):\r\n",
        "    stream = getattr(proc, stream)\r\n",
        "    with contextlib.closing(stream):\r\n",
        "        while True:\r\n",
        "            out = []\r\n",
        "            last = stream.read(1)\r\n",
        "            # Don't loop forever\r\n",
        "            if last == '' and proc.poll() is not None:\r\n",
        "                break\r\n",
        "            while last not in newlines:\r\n",
        "                # Don't loop forever\r\n",
        "                if last == '' and proc.poll() is not None:\r\n",
        "                    break\r\n",
        "                out.append(last)\r\n",
        "                last = stream.read(1)\r\n",
        "            out = ''.join(out)\r\n",
        "            yield out\r\n",
        "\r\n",
        "def transfare():\r\n",
        "    cmd = ['mega-put', RUTA_ORIGEN, '/colab']\r\n",
        "    proc = subprocess.Popen(\r\n",
        "        cmd,\r\n",
        "        stdout=subprocess.PIPE,\r\n",
        "        stderr=subprocess.STDOUT,\r\n",
        "        # Make all end-of-lines '\\n'\r\n",
        "        universal_newlines=True,\r\n",
        "    )\r\n",
        "    for line in unbuffered(proc):\r\n",
        "        clear_output(wait=True)\r\n",
        "        print(line)\r\n",
        "\r\n",
        "try:\r\n",
        "    transfare()\r\n",
        "except FileNotFoundError:\r\n",
        "    print(\"Login your account!\")\r\n"
      ],
      "execution_count": null,
      "outputs": []
    }
  ]
}